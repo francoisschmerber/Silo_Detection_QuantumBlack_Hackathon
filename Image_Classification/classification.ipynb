{
 "cells": [
  {
   "cell_type": "markdown",
   "metadata": {},
   "source": [
    "# Classification from the masks"
   ]
  },
  {
   "cell_type": "code",
   "execution_count": 1,
   "metadata": {
    "id": "AtrJRyhEG38X"
   },
   "outputs": [],
   "source": [
    "import os\n",
    "import random\n",
    "from tqdm import tqdm\n",
    "\n",
    "import numpy as np\n",
    "\n",
    "import tensorflow as tf\n",
    "from tensorflow import keras\n",
    "from tensorflow.keras.utils import load_img, array_to_img, img_to_array\n",
    "\n",
    "from skimage.io import imshow\n",
    "import matplotlib.pyplot as plt \n",
    "\n",
    "from custom_functions import dice_coef, IoU_coeff, IoULoss, DiceLoss, intersection\n"
   ]
  },
  {
   "cell_type": "markdown",
   "metadata": {
    "id": "_dXsC4QYHsBg"
   },
   "source": [
    "## Images loading and preprocessing"
   ]
  },
  {
   "cell_type": "code",
   "execution_count": 2,
   "metadata": {
    "id": "pN86Ay3hHudb"
   },
   "outputs": [],
   "source": [
    "IMG_WIDTH_HEIGHT = 256\n",
    "IMG_CHANNELS = 3\n",
    "classes = 1"
   ]
  },
  {
   "cell_type": "code",
   "execution_count": 3,
   "metadata": {
    "id": "tCfBciTCl4YB"
   },
   "outputs": [],
   "source": [
    "path = \"data/\"\n",
    "input_dir = path + 'images/'\n",
    "target_dir = path + 'masks/'"
   ]
  },
  {
   "cell_type": "code",
   "execution_count": 4,
   "metadata": {
    "id": "PofDWMXBPi_1"
   },
   "outputs": [],
   "source": [
    "input_img_paths = sorted(\n",
    "    [\n",
    "        fname\n",
    "        for fname in os.listdir(input_dir)\n",
    "        if fname.endswith(\".png\")\n",
    "    ]\n",
    ")\n",
    "target_img_paths = sorted(\n",
    "    [\n",
    "        fname\n",
    "        for fname in os.listdir(target_dir)\n",
    "        if fname.endswith(\".png\") and not fname.startswith(\".\")\n",
    "    ]\n",
    ")"
   ]
  },
  {
   "cell_type": "code",
   "execution_count": 5,
   "metadata": {
    "colab": {
     "base_uri": "https://localhost:8080/"
    },
    "id": "_EPIRH8u-X_x",
    "outputId": "512ad900-c8ad-4e38-ee80-3643c1b91e09"
   },
   "outputs": [
    {
     "data": {
      "text/plain": [
       "1997"
      ]
     },
     "execution_count": 5,
     "metadata": {},
     "output_type": "execute_result"
    }
   ],
   "source": [
    "len(input_img_paths)"
   ]
  },
  {
   "cell_type": "code",
   "execution_count": 6,
   "metadata": {
    "id": "uNhzNXQEoDnH",
    "tags": []
   },
   "outputs": [
    {
     "name": "stderr",
     "output_type": "stream",
     "text": [
      "100%|██████████| 1997/1997 [00:22<00:00, 89.64it/s] \n"
     ]
    }
   ],
   "source": [
    "N = len(input_img_paths)\n",
    "X = []\n",
    "Y = []\n",
    "\n",
    "for i in tqdm(range(N)):\n",
    "    img_path = input_img_paths[i]\n",
    "    if os.path.isfile(input_dir + img_path) and os.path.isfile(target_dir + img_path):\n",
    "        img = load_img(input_dir + img_path, grayscale=False,target_size=(IMG_WIDTH_HEIGHT, IMG_WIDTH_HEIGHT)) \n",
    "        img = img_to_array(img)\n",
    "        X.append(img.astype('float32') / 255.0)\n",
    "\n",
    "        #mask_path = target_img_paths[i]\n",
    "        mask = load_img(target_dir + img_path, color_mode = \"grayscale\",target_size=(IMG_WIDTH_HEIGHT, IMG_WIDTH_HEIGHT)) \n",
    "        mask = img_to_array(mask)\n",
    "        Y.append(mask // 200)\n",
    "        \n",
    "X = np.array(X, dtype=np.float32)\n",
    "Y = np.array(Y, dtype=np.uint8)"
   ]
  },
  {
   "cell_type": "markdown",
   "metadata": {},
   "source": [
    "## Separation of images with and without silos"
   ]
  },
  {
   "cell_type": "code",
   "execution_count": 7,
   "metadata": {},
   "outputs": [],
   "source": [
    "def with_silos(mask_array):\n",
    "    return np.sum(mask_array, axis=(0, 1, 2))>10"
   ]
  },
  {
   "cell_type": "code",
   "execution_count": 8,
   "metadata": {},
   "outputs": [],
   "source": [
    "X_silos = []\n",
    "Y_silos = []\n",
    "\n",
    "X_no_silos = []\n",
    "Y_no_silos = []\n",
    "\n",
    "for i in range(len(Y)):\n",
    "    if with_silos(Y[i]):\n",
    "        Y_silos.append(Y[i])\n",
    "        X_silos.append(X[i])\n",
    "    else:\n",
    "        X_no_silos.append(X[i])\n",
    "        Y_no_silos.append(Y[i])\n",
    "        \n",
    "X_silos = np.array(X_silos, dtype=np.float32)\n",
    "Y_silos = np.array(Y_silos, dtype=int)\n",
    "\n",
    "X_no_silos = np.array(X_no_silos, dtype=np.float32)\n",
    "Y_no_silos = np.array(Y_no_silos, dtype=int)"
   ]
  },
  {
   "cell_type": "markdown",
   "metadata": {},
   "source": [
    "## Generation of the train and test set of the segmentation model"
   ]
  },
  {
   "cell_type": "code",
   "execution_count": 38,
   "metadata": {
    "id": "AZiTqPf5oTba"
   },
   "outputs": [],
   "source": [
    "split_silos = int(len(X_silos)*0.8)\n",
    "\n",
    "X_train = X_silos[:split_silos] # Segmentation model has been trained only on those images\n",
    "Y_train = Y_silos[:split_silos]\n",
    "\n",
    "X_test = X_silos[split_silos:]\n",
    "Y_test = Y_silos[split_silos:]"
   ]
  },
  {
   "cell_type": "code",
   "execution_count": 10,
   "metadata": {},
   "outputs": [
    {
     "data": {
      "text/plain": [
       "439"
      ]
     },
     "execution_count": 10,
     "metadata": {},
     "output_type": "execute_result"
    }
   ],
   "source": [
    "len(X_train)"
   ]
  },
  {
   "cell_type": "markdown",
   "metadata": {},
   "source": [
    "## Naive classification from the masks"
   ]
  },
  {
   "cell_type": "code",
   "execution_count": 23,
   "metadata": {
    "tags": []
   },
   "outputs": [],
   "source": [
    "MODEL_PATH = \"unet_silos3.hdf5\"\n",
    "model = keras.models.load_model(MODEL_PATH, custom_objects={'IoU_coeff': IoU_coeff, 'dice_coef': dice_coef, 'DiceLoss':  DiceLoss})"
   ]
  },
  {
   "cell_type": "code",
   "execution_count": 24,
   "metadata": {},
   "outputs": [
    {
     "name": "stdout",
     "output_type": "stream",
     "text": [
      "There are 13 detected silos on 930 images without silos\n",
      "There are 105 dectected silos on 110 images with silos\n"
     ]
    }
   ],
   "source": [
    "i = 46\n",
    "THRESHOLD = 0.6\n",
    "silos = 0\n",
    "predictions = model.predict(X_no_silos)\n",
    "for i in range(len(X_no_silos)):\n",
    "    silos += np.sum(np.array(predictions[i]>THRESHOLD, dtype=np.uint8), axis=(0, 1, 2))>100\n",
    "print(f\"There are {silos} detected silos on {len(X_no_silos)} images without silos\")\n",
    "\n",
    "silos = 0\n",
    "predictions = model.predict(X_test)\n",
    "for i in range(len(X_test)):\n",
    "    silos += np.sum(np.array(predictions[i]>THRESHOLD, dtype=np.uint8), axis=(0, 1, 2))>100\n",
    "    \n",
    "\n",
    "print(f\"There are {silos} dectected silos on {len(X_test)} images with silos\")"
   ]
  },
  {
   "cell_type": "code",
   "execution_count": 25,
   "metadata": {},
   "outputs": [],
   "source": [
    "def n_silos_detected(X, predictions, threshold, limit):\n",
    "    silos = 0\n",
    "    for i in range(len(X)):\n",
    "        silos += np.sum(np.array(predictions[i] > threshold, dtype=np.uint8), axis=(0, 1, 2)) >= limit\n",
    "    return silos"
   ]
  },
  {
   "cell_type": "code",
   "execution_count": 26,
   "metadata": {},
   "outputs": [],
   "source": [
    "def accuracy(X_test, X_no_silos, pred_test, pred_no_silos):\n",
    "    thresholds = np.linspace(0, 1, 40)\n",
    "    \n",
    "    acc_test = []\n",
    "    acc_sans = []\n",
    "    auc = []\n",
    "    for threshold in thresholds:\n",
    "        acc_test.append((n_silos_detected(X_test, pred_test, threshold, 10)) / len(X_test))\n",
    "        acc_sans.append((len(X_no_silos) - n_silos_detected(X_no_silos, pred_sans, threshold, 10)) / len(X_no_silos))\n",
    "        auc.append((n_silos_detected(X_test, pred_test, threshold, 10) + len(X_sans) - n_silos_detected(X_sans, pred_sans, threshold, 10))/(len(X_test) + len(X_sans)))\n",
    "    plt.plot(thresholds, acc_test)\n",
    "    plt.plot(thresholds, acc_sans)\n",
    "    plt.plot(thresholds, auc)\n",
    "    plt.show()"
   ]
  },
  {
   "cell_type": "code",
   "execution_count": 33,
   "metadata": {},
   "outputs": [],
   "source": [
    "def roc_curve(X_test, X_no_silos, pred_test, pred_no_silos):\n",
    "    thresholds = [0, 5, 10, 20, 50, 80, 100, 200, 300, 400, 500, 600, 700, 800, 1000, 5000]\n",
    "    \n",
    "    TPR = []\n",
    "    FPR = []\n",
    "    for threshold in thresholds:\n",
    "        n_test = n_silos_detected(X_test, pred_test, 0.6, threshold)\n",
    "        n_sans = n_silos_detected(X_no_silos, pred_sans, 0.6, threshold)\n",
    "        TPR.append(n_test / len(X_test))\n",
    "        FPR.append(n_sans / len(X_no_silos))\n",
    "    plt.plot(FPR, TPR)\n",
    "    plt.show()\n",
    "    print(f\"The calculated AUC is : {round(np.trapz(y=sorted(TPR), x=sorted(FPR)), 3)}\")"
   ]
  },
  {
   "cell_type": "code",
   "execution_count": 34,
   "metadata": {},
   "outputs": [
    {
     "data": {
      "image/png": "[encoded data removed]",
      "text/plain": [
       "<Figure size 432x288 with 1 Axes>"
      ]
     },
     "metadata": {
      "needs_background": "light"
     },
     "output_type": "display_data"
    },
    {
     "name": "stdout",
     "output_type": "stream",
     "text": [
      "The calculated AUC is : 0.988\n"
     ]
    }
   ],
   "source": [
    "X_sans = X_no_silos[:int(len(X_no_silos)*0.2)]\n",
    "pred_test = model.predict(X_test)\n",
    "pred_sans = model.predict(X_sans)\n",
    "roc_curve(X_test, X_sans, pred_test, pred_sans)"
   ]
  },
  {
   "cell_type": "markdown",
   "metadata": {},
   "source": [
    "## Classification with a CNN on the masks"
   ]
  },
  {
   "cell_type": "code",
   "execution_count": 35,
   "metadata": {},
   "outputs": [
    {
     "name": "stdout",
     "output_type": "stream",
     "text": [
      "Requirement already satisfied: opencv-python in /opt/conda/lib/python3.8/site-packages (4.6.0.66)\n",
      "Requirement already satisfied: numpy>=1.17.3 in /opt/conda/lib/python3.8/site-packages (from opencv-python) (1.22.1)\n",
      "\n",
      "\u001b[1m[\u001b[0m\u001b[34;49mnotice\u001b[0m\u001b[1;39;49m]\u001b[0m\u001b[39;49m A new release of pip available: \u001b[0m\u001b[31;49m22.2.2\u001b[0m\u001b[39;49m -> \u001b[0m\u001b[32;49m22.3.1\u001b[0m\n",
      "\u001b[1m[\u001b[0m\u001b[34;49mnotice\u001b[0m\u001b[1;39;49m]\u001b[0m\u001b[39;49m To update, run: \u001b[0m\u001b[32;49mpip install --upgrade pip\u001b[0m\n"
     ]
    }
   ],
   "source": [
    "!pip install opencv-python\n",
    "import cv2\n",
    "import math\n",
    "import pandas as pd\n",
    "import matplotlib.pyplot as plt\n",
    "\n",
    "from sklearn.model_selection import train_test_split\n",
    "\n",
    "from tensorflow.keras.utils import set_random_seed\n",
    "from tensorflow.keras.models import Sequential\n",
    "from tensorflow.keras.layers import Dense, Dropout, Flatten, Conv2D, MaxPooling2D\n",
    "from tensorflow.keras.metrics import AUC\n",
    "from tensorflow.keras.preprocessing.image import ImageDataGenerator\n",
    "from tensorflow.keras import layers\n",
    "from tensorflow.keras.callbacks import EarlyStopping\n"
   ]
  },
  {
   "cell_type": "code",
   "execution_count": 43,
   "metadata": {},
   "outputs": [],
   "source": [
    "MODEL_PATH = \"unet_silos3.hdf5\"\n",
    "segmentation_model = keras.models.load_model(MODEL_PATH, custom_objects={'IoU_coeff': IoU_coeff, 'dice_coef': dice_coef, 'DiceLoss':  DiceLoss})"
   ]
  },
  {
   "cell_type": "code",
   "execution_count": 37,
   "metadata": {},
   "outputs": [
    {
     "name": "stdout",
     "output_type": "stream",
     "text": [
      "930\n",
      "439\n",
      "110\n"
     ]
    }
   ],
   "source": [
    "print(len(X_no_silos))\n",
    "print(len(X_train))\n",
    "print(len(X_test))"
   ]
  },
  {
   "cell_type": "markdown",
   "metadata": {},
   "source": [
    "## Prediction of the masks on the training and the test set"
   ]
  },
  {
   "cell_type": "code",
   "execution_count": 41,
   "metadata": {},
   "outputs": [],
   "source": [
    "# Creation of the train and the test set\n",
    "limit = int(len(X_no_silos)*0.8)\n",
    "img_train = np.append(X_train, X_no_silos[:limit], axis=0)\n",
    "y_train = np.append(np.ones(len(X_train)), np.zeros(limit))\n",
    "\n",
    "img_test = np.append(X_test, X_no_silos[limit:], axis=0)\n",
    "y_test = np.append(np.ones(len(X_test)), np.zeros(len(X_no_silos[limit:])))"
   ]
  },
  {
   "cell_type": "code",
   "execution_count": 44,
   "metadata": {},
   "outputs": [],
   "source": [
    "mask_train = segmentation_model.predict(img_train)\n",
    "mask_test = segmentation_model.predict(img_test)"
   ]
  },
  {
   "cell_type": "markdown",
   "metadata": {},
   "source": [
    "## Classification model"
   ]
  },
  {
   "cell_type": "code",
   "execution_count": 52,
   "metadata": {},
   "outputs": [],
   "source": [
    "model_c = Sequential(name = 'Salinas_CNN')\n",
    "\n",
    "model_c.add(layers.Rescaling(1./255, input_shape=(256, 256, 1)))\n",
    "model_c.add(Conv2D(filters = 64, kernel_size = 3, activation ='relu' , name = 'Layer2'))\n",
    "model_c.add(Conv2D(filters = 64, kernel_size = 3, activation ='relu' , name = 'Layer3'))\n",
    "\n",
    "model_c.add(MaxPooling2D(pool_size = 2, name = 'MaxPooling_Layer1'))\n",
    "model_c.add(Dropout(0.4, name = 'Dropout1'))\n",
    "\n",
    "model_c.add(Conv2D(filters = 32, kernel_size = 3, activation ='relu', name = 'Layer4'))\n",
    "model_c.add(Conv2D(filters = 32, kernel_size = 3, activation ='relu', name = 'Layer5'))\n",
    "model_c.add(Conv2D(filters = 32, kernel_size = 3, activation ='relu', name = 'Layer6'))\n",
    "\n",
    "model_c.add(MaxPooling2D(pool_size = 2, name = 'MaxPooling_Layer2'))\n",
    "model_c.add(Dropout(0.4, name = 'Dropout2'))\n",
    "\n",
    "model_c.add(Flatten(name = 'Flatten'))\n",
    "\n",
    "model_c.add(Dense(512, activation='relu', name = 'DenseLayer1'))\n",
    "\n",
    "model_c.add(Dropout(0.5, name = 'Dropout3'))\n",
    "\n",
    "model_c.add(Dense(1, activation='sigmoid', name = 'DenseLayer2'))"
   ]
  },
  {
   "cell_type": "code",
   "execution_count": 53,
   "metadata": {},
   "outputs": [
    {
     "name": "stdout",
     "output_type": "stream",
     "text": [
      "Epoch 1/40\n",
      "74/74 [==============================] - 5s 55ms/step - loss: 0.6663 - auc_2: 0.4948 - val_loss: 0.6712 - val_auc_2: 0.5045\n",
      "Epoch 2/40\n",
      "74/74 [==============================] - 3s 47ms/step - loss: 0.6656 - auc_2: 0.4889 - val_loss: 0.6608 - val_auc_2: 0.5045\n",
      "Epoch 3/40\n",
      "74/74 [==============================] - 3s 40ms/step - loss: 0.6625 - auc_2: 0.4975 - val_loss: 0.6613 - val_auc_2: 0.5227\n",
      "Epoch 4/40\n",
      "74/74 [==============================] - 3s 45ms/step - loss: 0.6623 - auc_2: 0.5005 - val_loss: 0.6595 - val_auc_2: 0.7000\n",
      "Epoch 5/40\n",
      "74/74 [==============================] - 3s 46ms/step - loss: 0.6596 - auc_2: 0.5355 - val_loss: 0.6546 - val_auc_2: 0.9766\n",
      "Epoch 6/40\n",
      "74/74 [==============================] - 3s 45ms/step - loss: 0.6456 - auc_2: 0.6125 - val_loss: 0.6309 - val_auc_2: 0.9487\n",
      "Epoch 7/40\n",
      "74/74 [==============================] - 3s 46ms/step - loss: 0.5786 - auc_2: 0.7856 - val_loss: 0.5052 - val_auc_2: 0.9845\n",
      "Epoch 8/40\n",
      "74/74 [==============================] - 3s 46ms/step - loss: 0.4524 - auc_2: 0.8956 - val_loss: 0.3636 - val_auc_2: 0.9891\n",
      "Epoch 9/40\n",
      "74/74 [==============================] - 3s 45ms/step - loss: 0.2934 - auc_2: 0.9591 - val_loss: 0.2044 - val_auc_2: 0.9936\n",
      "Epoch 10/40\n",
      "74/74 [==============================] - 3s 45ms/step - loss: 0.2305 - auc_2: 0.9649 - val_loss: 0.1634 - val_auc_2: 0.9935\n",
      "Epoch 11/40\n",
      "74/74 [==============================] - 3s 40ms/step - loss: 0.2155 - auc_2: 0.9750 - val_loss: 0.1773 - val_auc_2: 0.9849\n",
      "Epoch 12/40\n",
      "74/74 [==============================] - 3s 45ms/step - loss: 0.1631 - auc_2: 0.9752 - val_loss: 0.1589 - val_auc_2: 0.9892\n",
      "Epoch 13/40\n",
      "74/74 [==============================] - 3s 46ms/step - loss: 0.1330 - auc_2: 0.9767 - val_loss: 0.1198 - val_auc_2: 0.9847\n",
      "Epoch 14/40\n",
      "74/74 [==============================] - 3s 41ms/step - loss: 0.1291 - auc_2: 0.9828 - val_loss: 0.1212 - val_auc_2: 0.9847\n",
      "Epoch 15/40\n",
      "74/74 [==============================] - 3s 41ms/step - loss: 0.1126 - auc_2: 0.9866 - val_loss: 0.1325 - val_auc_2: 0.9804\n",
      "Epoch 16/40\n",
      "74/74 [==============================] - 3s 41ms/step - loss: 0.3007 - auc_2: 0.9715 - val_loss: 0.1213 - val_auc_2: 0.9886\n",
      "Epoch 17/40\n",
      "74/74 [==============================] - 3s 40ms/step - loss: 0.1105 - auc_2: 0.9823 - val_loss: 0.1223 - val_auc_2: 0.9910\n",
      "Epoch 18/40\n",
      "74/74 [==============================] - 3s 41ms/step - loss: 0.1050 - auc_2: 0.9810 - val_loss: 0.1204 - val_auc_2: 0.9911\n",
      "Epoch 19/40\n",
      "74/74 [==============================] - 3s 41ms/step - loss: 0.1702 - auc_2: 0.9776 - val_loss: 0.1270 - val_auc_2: 0.9883\n",
      "Epoch 20/40\n",
      "74/74 [==============================] - 3s 41ms/step - loss: 0.0974 - auc_2: 0.9832 - val_loss: 0.1253 - val_auc_2: 0.9909\n",
      "Epoch 21/40\n",
      "74/74 [==============================] - 3s 40ms/step - loss: 0.2185 - auc_2: 0.9790 - val_loss: 0.1321 - val_auc_2: 0.9907\n",
      "Epoch 22/40\n",
      "74/74 [==============================] - 3s 40ms/step - loss: 0.2296 - auc_2: 0.9803 - val_loss: 0.1722 - val_auc_2: 0.9791\n",
      "Epoch 23/40\n",
      "74/74 [==============================] - 3s 41ms/step - loss: 0.0887 - auc_2: 0.9888 - val_loss: 0.1391 - val_auc_2: 0.9818\n",
      "Epoch 24/40\n",
      "74/74 [==============================] - 3s 41ms/step - loss: 0.1096 - auc_2: 0.9890 - val_loss: 0.1562 - val_auc_2: 0.9727\n",
      "Epoch 25/40\n",
      "73/74 [============================>.] - ETA: 0s - loss: 0.1035 - auc_2: 0.9828Restoring model weights from the end of the best epoch: 13.\n",
      "74/74 [==============================] - 3s 45ms/step - loss: 0.1035 - auc_2: 0.9830 - val_loss: 0.1557 - val_auc_2: 0.9728\n",
      "Epoch 00025: early stopping\n"
     ]
    }
   ],
   "source": [
    "model_c.compile(optimizer = tf.keras.optimizers.RMSprop(learning_rate=1e-4), \n",
    "                loss = 'binary_crossentropy',\n",
    "                metrics = [AUC()])\n",
    "\n",
    "earlystopper = EarlyStopping(monitor=\"val_loss\",\n",
    "                             mode=\"min\", \n",
    "                             verbose= 1,\n",
    "                             patience=12,\n",
    "                             restore_best_weights=True)\n",
    "\n",
    "hist_C = model_c.fit(mask_train, y_train, \n",
    "                     validation_data = [mask_test, y_test],\n",
    "                     epochs = 40, \n",
    "                     batch_size = 16,\n",
    "                     callbacks=[earlystopper])"
   ]
  },
  {
   "cell_type": "code",
   "execution_count": 54,
   "metadata": {},
   "outputs": [
    {
     "data": {
      "image/png": "[encoded data removed]",
      "text/plain": [
       "<Figure size 432x288 with 1 Axes>"
      ]
     },
     "metadata": {
      "needs_background": "light"
     },
     "output_type": "display_data"
    }
   ],
   "source": [
    "plt.plot(hist_C.epoch, hist_C.history[\"loss\"], 'g', label='Training loss')\n",
    "plt.plot(hist_C.epoch, hist_C.history[\"val_loss\"], 'r', label='Validation loss')\n",
    "plt.title('Training loss')\n",
    "plt.xlabel('Epochs')\n",
    "plt.ylabel('Loss')\n",
    "plt.legend()\n",
    "plt.show()"
   ]
  },
  {
   "cell_type": "code",
   "execution_count": 57,
   "metadata": {},
   "outputs": [
    {
     "data": {
      "image/png": "[encoded data removed]",
      "text/plain": [
       "<Figure size 432x288 with 1 Axes>"
      ]
     },
     "metadata": {
      "needs_background": "light"
     },
     "output_type": "display_data"
    }
   ],
   "source": [
    "plt.plot(hist_C.epoch, hist_C.history[\"auc_2\"], 'g', label='Training auc')\n",
    "plt.plot(hist_C.epoch, hist_C.history[\"val_auc_2\"], 'r', label='Validation auc')\n",
    "plt.title('Training auc')\n",
    "plt.xlabel('Epochs')\n",
    "plt.ylabel('Loss')\n",
    "plt.legend()\n",
    "plt.show()"
   ]
  },
  {
   "cell_type": "code",
   "execution_count": 58,
   "metadata": {},
   "outputs": [
    {
     "name": "stdout",
     "output_type": "stream",
     "text": [
      "19/19 [==============================] - 0s 13ms/step - loss: 0.1198 - auc_2: 0.9847\n"
     ]
    },
    {
     "data": {
      "text/plain": [
       "[0.11982036381959915, 0.9847263097763062]"
      ]
     },
     "execution_count": 58,
     "metadata": {},
     "output_type": "execute_result"
    }
   ],
   "source": [
    "model_c.evaluate(mask_test, y_test, batch_size=16)"
   ]
  },
  {
   "cell_type": "code",
   "execution_count": null,
   "metadata": {},
   "outputs": [],
   "source": [
    "model_c.save(\"model_classif_v1\")"
   ]
  }
 ],
 "metadata": {
  "accelerator": "GPU",
  "colab": {
   "provenance": []
  },
  "gpuClass": "standard",
  "kernelspec": {
   "display_name": "Python 3 (ipykernel)",
   "language": "python",
   "name": "python3"
  },
  "language_info": {
   "codemirror_mode": {
    "name": "ipython",
    "version": 3
   },
   "file_extension": ".py",
   "mimetype": "text/x-python",
   "name": "python",
   "nbconvert_exporter": "python",
   "pygments_lexer": "ipython3",
   "version": "3.8.13"
  }
 },
 "nbformat": 4,
 "nbformat_minor": 4
}
